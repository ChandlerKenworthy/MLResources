{
 "cells": [
  {
   "cell_type": "markdown",
   "metadata": {},
   "source": [
    "# Natural Language Processing\n",
    "Of growing importance in many products today is natural language processing (or NLP). It's uses can vary from something simple like detecting if an email is likely to be spam (as is demonstrated below) to generating closed-captions on YouTube videos."
   ]
  },
  {
   "cell_type": "code",
   "execution_count": 1,
   "metadata": {},
   "outputs": [],
   "source": [
    "import numpy as np\n",
    "import nltk # For tokenizing the sentences\n",
    "from nltk.stem import WordNetLemmatizer\n",
    "from nltk.corpus import stopwords # Just a big list of words that add no meaning e.g. 'it'\n",
    "import pandas as pd\n",
    "import matplotlib.pyplot as plt"
   ]
  },
  {
   "cell_type": "code",
   "execution_count": 2,
   "metadata": {},
   "outputs": [
    {
     "name": "stderr",
     "output_type": "stream",
     "text": [
      "[nltk_data] Downloading package wordnet to\n",
      "[nltk_data]     /Users/chandler/nltk_data...\n",
      "[nltk_data]   Package wordnet is already up-to-date!\n",
      "[nltk_data] Downloading package stopwords to\n",
      "[nltk_data]     /Users/chandler/nltk_data...\n",
      "[nltk_data]   Package stopwords is already up-to-date!\n"
     ]
    },
    {
     "data": {
      "text/plain": [
       "True"
      ]
     },
     "execution_count": 2,
     "metadata": {},
     "output_type": "execute_result"
    }
   ],
   "source": [
    "nltk.download('wordnet')\n",
    "nltk.download('stopwords')"
   ]
  },
  {
   "cell_type": "code",
   "execution_count": 3,
   "metadata": {},
   "outputs": [
    {
     "data": {
      "text/html": [
       "<div>\n",
       "<style scoped>\n",
       "    .dataframe tbody tr th:only-of-type {\n",
       "        vertical-align: middle;\n",
       "    }\n",
       "\n",
       "    .dataframe tbody tr th {\n",
       "        vertical-align: top;\n",
       "    }\n",
       "\n",
       "    .dataframe thead th {\n",
       "        text-align: right;\n",
       "    }\n",
       "</style>\n",
       "<table border=\"1\" class=\"dataframe\">\n",
       "  <thead>\n",
       "    <tr style=\"text-align: right;\">\n",
       "      <th></th>\n",
       "      <th>CATEGORY</th>\n",
       "      <th>MESSAGE</th>\n",
       "      <th>FILE_NAME</th>\n",
       "    </tr>\n",
       "  </thead>\n",
       "  <tbody>\n",
       "    <tr>\n",
       "      <th>0</th>\n",
       "      <td>1</td>\n",
       "      <td>Dear Homeowner,\\n\\n \\n\\nInterest Rates are at ...</td>\n",
       "      <td>00249.5f45607c1bffe89f60ba1ec9f878039a</td>\n",
       "    </tr>\n",
       "    <tr>\n",
       "      <th>1</th>\n",
       "      <td>1</td>\n",
       "      <td>ATTENTION: This is a MUST for ALL Computer Use...</td>\n",
       "      <td>00373.ebe8670ac56b04125c25100a36ab0510</td>\n",
       "    </tr>\n",
       "    <tr>\n",
       "      <th>2</th>\n",
       "      <td>1</td>\n",
       "      <td>This is a multi-part message in MIME format.\\n...</td>\n",
       "      <td>00214.1367039e50dc6b7adb0f2aa8aba83216</td>\n",
       "    </tr>\n",
       "    <tr>\n",
       "      <th>3</th>\n",
       "      <td>1</td>\n",
       "      <td>IMPORTANT INFORMATION:\\n\\n\\n\\nThe new domain n...</td>\n",
       "      <td>00210.050ffd105bd4e006771ee63cabc59978</td>\n",
       "    </tr>\n",
       "    <tr>\n",
       "      <th>4</th>\n",
       "      <td>1</td>\n",
       "      <td>This is the bottom line.  If you can GIVE AWAY...</td>\n",
       "      <td>00033.9babb58d9298daa2963d4f514193d7d6</td>\n",
       "    </tr>\n",
       "  </tbody>\n",
       "</table>\n",
       "</div>"
      ],
      "text/plain": [
       "   CATEGORY                                            MESSAGE  \\\n",
       "0         1  Dear Homeowner,\\n\\n \\n\\nInterest Rates are at ...   \n",
       "1         1  ATTENTION: This is a MUST for ALL Computer Use...   \n",
       "2         1  This is a multi-part message in MIME format.\\n...   \n",
       "3         1  IMPORTANT INFORMATION:\\n\\n\\n\\nThe new domain n...   \n",
       "4         1  This is the bottom line.  If you can GIVE AWAY...   \n",
       "\n",
       "                                FILE_NAME  \n",
       "0  00249.5f45607c1bffe89f60ba1ec9f878039a  \n",
       "1  00373.ebe8670ac56b04125c25100a36ab0510  \n",
       "2  00214.1367039e50dc6b7adb0f2aa8aba83216  \n",
       "3  00210.050ffd105bd4e006771ee63cabc59978  \n",
       "4  00033.9babb58d9298daa2963d4f514193d7d6  "
      ]
     },
     "execution_count": 3,
     "metadata": {},
     "output_type": "execute_result"
    }
   ],
   "source": [
    "df = pd.read_csv(\"./data/Spam_Email_For_NLP.csv\")\n",
    "df.head()"
   ]
  },
  {
   "cell_type": "code",
   "execution_count": 4,
   "metadata": {},
   "outputs": [
    {
     "data": {
      "text/plain": [
       "0    3900\n",
       "1    1896\n",
       "Name: CATEGORY, dtype: int64"
      ]
     },
     "execution_count": 4,
     "metadata": {},
     "output_type": "execute_result"
    }
   ],
   "source": [
    "df['CATEGORY'].value_counts()"
   ]
  },
  {
   "cell_type": "markdown",
   "metadata": {},
   "source": [
    "We have 3900 email messages that are not spam and 1896 that are spam. These datasets are slightly imbalanced but not to the extent that it should cause issues during training.\n",
    "\n",
    "## Tokenzing\n",
    "First we need to tokenize, tokenizing is the process of stripping unecessary characters from a string and splitting into word-by-word. Here I use the NLTK library to do this quickly."
   ]
  },
  {
   "cell_type": "code",
   "execution_count": 5,
   "metadata": {},
   "outputs": [
    {
     "data": {
      "text/plain": [
       "['Hello', 'Mum', 'how', 'are', 'you', 'this']"
      ]
     },
     "execution_count": 5,
     "metadata": {},
     "output_type": "execute_result"
    }
   ],
   "source": [
    "tokenizer = nltk.RegexpTokenizer(r'\\w+')\n",
    "test_message = \"Hello Mum,\\nhow are you this morning, just thought I would let you know I left my 'car' keys at home!!! Anyway see you <b>later</b>\"\n",
    "\n",
    "test_message_tokenized = tokenizer.tokenize(test_message)\n",
    "test_message_tokenized[:6]"
   ]
  },
  {
   "cell_type": "code",
   "execution_count": 6,
   "metadata": {},
   "outputs": [
    {
     "data": {
      "text/plain": [
       "['hello', 'mum', 'how', 'are', 'you', 'this']"
      ]
     },
     "execution_count": 6,
     "metadata": {},
     "output_type": "execute_result"
    }
   ],
   "source": [
    "# It will be much easier if we move everything to lowercase now\n",
    "test_message_lowercase = [t.lower() for t in test_message_tokenized]\n",
    "test_message_lowercase[:6] # Note, lowercasing is a choice"
   ]
  },
  {
   "cell_type": "code",
   "execution_count": 7,
   "metadata": {},
   "outputs": [
    {
     "data": {
      "text/plain": [
       "['hello',\n",
       " 'mum',\n",
       " 'how',\n",
       " 'are',\n",
       " 'you',\n",
       " 'this',\n",
       " 'morning',\n",
       " 'just',\n",
       " 'thought',\n",
       " 'i']"
      ]
     },
     "execution_count": 7,
     "metadata": {},
     "output_type": "execute_result"
    }
   ],
   "source": [
    "lemmatizer = WordNetLemmatizer()\n",
    "test_message_lem_tokens = [lemmatizer.lemmatize(t) for t in test_message_lowercase]\n",
    "test_message_lem_tokens[:10]"
   ]
  },
  {
   "cell_type": "code",
   "execution_count": 8,
   "metadata": {},
   "outputs": [
    {
     "data": {
      "text/plain": [
       "['hello',\n",
       " 'mum',\n",
       " 'morning',\n",
       " 'thought',\n",
       " 'would',\n",
       " 'let',\n",
       " 'know',\n",
       " 'left',\n",
       " 'car',\n",
       " 'key',\n",
       " 'home',\n",
       " 'anyway',\n",
       " 'see',\n",
       " 'b',\n",
       " 'later',\n",
       " 'b']"
      ]
     },
     "execution_count": 8,
     "metadata": {},
     "output_type": "execute_result"
    }
   ],
   "source": [
    "stopwords = stopwords.words('english')\n",
    "test_message_useful_tokens = [t for t in test_message_lem_tokens if t not in stopwords]\n",
    "test_message_useful_tokens"
   ]
  },
  {
   "cell_type": "markdown",
   "metadata": {},
   "source": [
    "Now we have demonstrated how each step of the processing works, I wrap all the steps up into a function so it is easy to use later."
   ]
  },
  {
   "cell_type": "code",
   "execution_count": 9,
   "metadata": {},
   "outputs": [],
   "source": [
    "def message_to_token_list(s):\n",
    "    # Takes a message and tokenizes it, makes the tokens lowercase then Lemmatizes it.\n",
    "    # finally we remove \"fluff\" (words like it, and etc.) by searching NLTK's stopwords\n",
    "    tokens = tokenizer.tokenize(s)\n",
    "    lower_case_tokens = [t.lower() for t in tokens]\n",
    "    lemmatized_tokens = [lemmatizer.lemmatize(t) for t in lower_case_tokens]\n",
    "    useful_tokens = [t for t in lemmatized_tokens if t not in stopwords]\n",
    "    return useful_tokens"
   ]
  },
  {
   "cell_type": "code",
   "execution_count": 10,
   "metadata": {},
   "outputs": [],
   "source": [
    "df = df.sample(frac=1, random_state=42) # Shuffle the dataframe randomly before doing a train/test split\n",
    "df = df.reset_index(drop=True)\n",
    "\n",
    "# Do the train/test split\n",
    "train_max_idx = int(len(df) * 0.8)\n",
    "train_df, test_df = df[:train_max_idx], df[train_max_idx:]\n",
    "\n",
    "train_df.reset_index(drop=True, inplace=True)\n",
    "test_df.reset_index(drop=True, inplace=True)"
   ]
  },
  {
   "cell_type": "code",
   "execution_count": 11,
   "metadata": {},
   "outputs": [
    {
     "data": {
      "text/plain": [
       "78191"
      ]
     },
     "execution_count": 11,
     "metadata": {},
     "output_type": "execute_result"
    }
   ],
   "source": [
    "token_counter = {}\n",
    "\n",
    "for message in train_df['MESSAGE']:\n",
    "    tokens = message_to_token_list(message)\n",
    "\n",
    "    for token in tokens:\n",
    "        if token in token_counter: # Searches the keys\n",
    "            token_counter[token] += 1\n",
    "        else:\n",
    "            token_counter[token] = 1\n",
    "\n",
    "len(token_counter)"
   ]
  },
  {
   "cell_type": "markdown",
   "metadata": {},
   "source": [
    "Decide on a simple feature set to use, we could make our model more complex by including more features."
   ]
  },
  {
   "cell_type": "code",
   "execution_count": 13,
   "metadata": {},
   "outputs": [],
   "source": [
    "def keep_token(processed_token, threshold):\n",
    "    if processed_token not in token_counter:\n",
    "        return False\n",
    "    else:\n",
    "        return token_counter[processed_token] > threshold"
   ]
  },
  {
   "cell_type": "code",
   "execution_count": 14,
   "metadata": {},
   "outputs": [
    {
     "data": {
      "text/plain": [
       "{'3d', 'b', 'br', 'com', 'font', 'http', 'nbsp', 'p', 'size', 'td', 'tr'}"
      ]
     },
     "execution_count": 14,
     "metadata": {},
     "output_type": "execute_result"
    }
   ],
   "source": [
    "features = set()\n",
    "\n",
    "for token in token_counter:\n",
    "    if keep_token(token, 10000):\n",
    "        features.add(token)\n",
    "\n",
    "features"
   ]
  },
  {
   "cell_type": "code",
   "execution_count": 57,
   "metadata": {},
   "outputs": [],
   "source": [
    "features = list(features)\n",
    "token_to_index_map = {k: v for k, v in zip(features, range(len(features)))}\n",
    "\n",
    "# What we are doing here is known as a \"bag of words\" approach, in this approach we just count up the occurences of\n",
    "# (assumed) \"important\" words\n",
    "def message_to_count_vector(m):\n",
    "    count_vector = np.zeros(len(features))\n",
    "    processed_token_list = message_to_token_list(m)\n",
    "    \n",
    "    for t in processed_token_list:\n",
    "        if t not in features:\n",
    "            continue\n",
    "        count_vector[token_to_index_map[t]] += 1\n",
    "    return count_vector"
   ]
  },
  {
   "cell_type": "markdown",
   "metadata": {},
   "source": [
    "## Building Training Data"
   ]
  },
  {
   "cell_type": "code",
   "execution_count": 19,
   "metadata": {},
   "outputs": [],
   "source": [
    "# Necessary ML imports\n",
    "from sklearn.preprocessing import MinMaxScaler"
   ]
  },
  {
   "cell_type": "code",
   "execution_count": 58,
   "metadata": {},
   "outputs": [],
   "source": [
    "def df_to_X_y(temp_df):\n",
    "    y = temp_df['CATEGORY'].to_numpy().astype(np.int32)\n",
    "    messages = temp_df['MESSAGE']\n",
    "    count_vectors = []\n",
    "\n",
    "    for m in messages:\n",
    "        count_vector = message_to_count_vector(m)\n",
    "        count_vectors.append(count_vector)\n",
    "\n",
    "    X = np.array(count_vectors).astype(np.int32)\n",
    "    return X, y"
   ]
  },
  {
   "cell_type": "code",
   "execution_count": 59,
   "metadata": {},
   "outputs": [],
   "source": [
    "X_train, y_train = df_to_X_y(train_df)\n",
    "X_test, y_test = df_to_X_y(test_df)"
   ]
  },
  {
   "cell_type": "code",
   "execution_count": 60,
   "metadata": {},
   "outputs": [
    {
     "data": {
      "text/plain": [
       "((4636, 11), (1160, 11))"
      ]
     },
     "execution_count": 60,
     "metadata": {},
     "output_type": "execute_result"
    }
   ],
   "source": [
    "X_train.shape, X_test.shape"
   ]
  },
  {
   "cell_type": "code",
   "execution_count": 62,
   "metadata": {},
   "outputs": [],
   "source": [
    "scaler = MinMaxScaler().fit(X_train)\n",
    "X_train, X_test = scaler.transform(X_train), scaler.transform(X_test)"
   ]
  },
  {
   "cell_type": "markdown",
   "metadata": {},
   "source": [
    "## Building An ML Model"
   ]
  },
  {
   "cell_type": "code",
   "execution_count": 73,
   "metadata": {},
   "outputs": [],
   "source": [
    "from sklearn.linear_model import LogisticRegression\n",
    "from sklearn.ensemble import RandomForestClassifier\n",
    "from sklearn.metrics import classification_report, roc_curve\n",
    "from xgboost import XGBClassifier"
   ]
  },
  {
   "cell_type": "code",
   "execution_count": 64,
   "metadata": {},
   "outputs": [
    {
     "name": "stdout",
     "output_type": "stream",
     "text": [
      "              precision    recall  f1-score   support\n",
      "\n",
      "           0       0.78      1.00      0.88       815\n",
      "           1       1.00      0.35      0.52       345\n",
      "\n",
      "    accuracy                           0.81      1160\n",
      "   macro avg       0.89      0.67      0.70      1160\n",
      "weighted avg       0.85      0.81      0.77      1160\n",
      "\n"
     ]
    }
   ],
   "source": [
    "model = LogisticRegression()\n",
    "model.fit(X_train, y_train)\n",
    "\n",
    "print(classification_report(y_test, model.predict(X_test)))"
   ]
  },
  {
   "cell_type": "code",
   "execution_count": 65,
   "metadata": {},
   "outputs": [
    {
     "name": "stdout",
     "output_type": "stream",
     "text": [
      "              precision    recall  f1-score   support\n",
      "\n",
      "           0       0.84      0.96      0.90       815\n",
      "           1       0.87      0.57      0.69       345\n",
      "\n",
      "    accuracy                           0.85      1160\n",
      "   macro avg       0.86      0.77      0.79      1160\n",
      "weighted avg       0.85      0.85      0.84      1160\n",
      "\n"
     ]
    }
   ],
   "source": [
    "model2 = RandomForestClassifier()\n",
    "model2.fit(X_train, y_train)\n",
    "print(classification_report(y_test, model2.predict(X_test)))"
   ]
  },
  {
   "cell_type": "code",
   "execution_count": 72,
   "metadata": {},
   "outputs": [
    {
     "name": "stdout",
     "output_type": "stream",
     "text": [
      "              precision    recall  f1-score   support\n",
      "\n",
      "           0       0.84      0.99      0.91       815\n",
      "           1       0.95      0.54      0.69       345\n",
      "\n",
      "    accuracy                           0.86      1160\n",
      "   macro avg       0.90      0.77      0.80      1160\n",
      "weighted avg       0.87      0.86      0.84      1160\n",
      "\n"
     ]
    }
   ],
   "source": [
    "bdt = XGBClassifier(n_estimators=15, max_depth=5)\n",
    "bdt.fit(X_train, y_train)\n",
    "print(classification_report(y_test, bdt.predict(X_test)))"
   ]
  },
  {
   "cell_type": "markdown",
   "metadata": {},
   "source": [
    "As usual from the, very basic, classification report it seems the XGBClassifier reigns supreme! We can correctly identify spam 95% of the time and correctly identify non-spam 84% of the time. Not bad for a very simple BOW (bag of words) approach."
   ]
  },
  {
   "cell_type": "code",
   "execution_count": 86,
   "metadata": {},
   "outputs": [
    {
     "data": {
      "image/png": "[encoded data removed]",
      "text/plain": [
       "<Figure size 1000x700 with 1 Axes>"
      ]
     },
     "metadata": {},
     "output_type": "display_data"
    }
   ],
   "source": [
    "fpr, tpr, thresholds = roc_curve(y_test, bdt.predict_proba(X_test)[:,1])\n",
    "fpr_train, tpr_train, thresholds = roc_curve(y_train, bdt.predict_proba(X_train)[:,1])\n",
    "fig, ax = plt.subplots(1, 1, figsize=(10,7))\n",
    "ax.plot(1 - fpr, tpr, label=\"Test\")\n",
    "ax.plot(1 - fpr_train, tpr_train, label=\"Train\")\n",
    "ax.set_xlabel(\"1 - False Positive Rate\")\n",
    "ax.set_ylabel(\"True Positive Rate\")\n",
    "plt.legend(fontsize=16)\n",
    "plt.grid()\n",
    "plt.show()"
   ]
  },
  {
   "cell_type": "markdown",
   "metadata": {},
   "source": [
    "By using the ROC curve we can tune our thresholds in line with what we want from our model. For example we could move the threshold very high up e.g. $P(isSpam)=0.9$ to ensure we don't wrongly classify any non-spam emails. Conversely we could ensure we remove all the junk - at the risk of rejecting more non-spam emails.\n",
    "\n",
    "We can also see from this ROC curve that we are unlikely to be overfitting since the curves show similar behaviour for train and test, the reason for the difference is likely the small smaple size."
   ]
  }
 ],
 "metadata": {
  "kernelspec": {
   "display_name": "tf",
   "language": "python",
   "name": "python3"
  },
  "language_info": {
   "codemirror_mode": {
    "name": "ipython",
    "version": 3
   },
   "file_extension": ".py",
   "mimetype": "text/x-python",
   "name": "python",
   "nbconvert_exporter": "python",
   "pygments_lexer": "ipython3",
   "version": "3.10.8"
  }
 },
 "nbformat": 4,
 "nbformat_minor": 2
}
